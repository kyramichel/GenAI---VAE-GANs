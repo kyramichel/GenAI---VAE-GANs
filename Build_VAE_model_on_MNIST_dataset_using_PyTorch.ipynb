{
  "nbformat": 4,
  "nbformat_minor": 0,
  "metadata": {
    "colab": {
      "provenance": []
    },
    "kernelspec": {
      "name": "python3",
      "display_name": "Python 3"
    },
    "language_info": {
      "name": "python"
    }
  },
  "cells": [
    {
      "cell_type": "markdown",
      "source": [
        "# Variational Autoencoder (VAE)\n",
        "\n",
        "is a type of **generative AI model** that learns a **probabilistic representation** of data in a **latent space**, and can be used to **generate new, realistic data** similar to the ones from the training sample.\n",
        "\n",
        "\n",
        "**Applications**: VAE has been used in Image generation, Data augmentation(e.g., generating additional training data for tasks where data is scarce), Anomaly detection (e.g., identifying rare or unusual samples that deviate from the learned distribution), Feature learning (e.g., learning useful representations of data that can be used for downstream tasks).\n",
        "\n"
      ],
      "metadata": {
        "id": "bfzIUyjNquYO"
      }
    },
    {
      "cell_type": "markdown",
      "source": [
        "In the code below we build a VAE model with Fully Connected Layers on MNIST Dataset Using PyTorch.\n",
        "\n",
        "-MNIST dataset consists of  28x28 pixel grayscale images of handwritten digits (0-9).\n",
        "\n",
        "We will train a VAE model to learn to encode the images of digits (which are 28x28 pixel grids) into a low-dimensional latent space. VAE use probabilistic inference.\n",
        "\n",
        "**VAE architecture** consists of 2 neural networks that interact with each other in a generative framework:\n",
        "\n",
        "- **Encoder network**: takes the input and produces the mean and log-variance of the latent space distribution\n",
        "\n",
        "- **Reparameterization Sampling**: samples from the latent space using the mean and variance from the encoder.\n",
        "\n",
        "- **Decoder network**: reconstructs the image from the latent representation.\n",
        "\n",
        "- **VAE Loss function** is the sum of:\n",
        "\n",
        "   -Reconstruction loss (BCE): measure the reconstruction error ie how well the model reconstructs the input data\n",
        "\n",
        "   -KL divergence: regularize the latent space by minimizing the divergence btw posterior $q(z|x)$ and prior $p(z) = N(0, 1)$.\n",
        "\n",
        "-**Training VAE** on epochs = 10.\n",
        "\n",
        "The model's performance is evaluated on the test set after each epoch.\n",
        "\n",
        "-**After training**  VAE model can be used to generate new, realistic images of digits that look like the ones from the training data. We will plot some reconstructed new images to visually check the quality of the trained VAE model.\n",
        "\n",
        "\n",
        "Note: It can be run on CPU or GPU.\n"
      ],
      "metadata": {
        "id": "pom6_Cbtr9Yv"
      }
    },
    {
      "cell_type": "code",
      "source": [
        "#install dependencies, if not already installed\n",
        "pip install torch torchvision matplotlib\n"
      ],
      "metadata": {
        "id": "3heqG_khuEXw"
      },
      "execution_count": 30,
      "outputs": []
    },
    {
      "cell_type": "code",
      "source": [
        "#Imports\n",
        "\n",
        "import torch\n",
        "import torch.nn as nn\n",
        "import torch.optim as optim\n",
        "from torch.utils.data import DataLoader\n",
        "from torchvision import datasets, transforms\n",
        "import torch.nn.functional as F\n",
        "import matplotlib.pyplot as plt"
      ],
      "metadata": {
        "id": "HRRpAtIID1i0"
      },
      "execution_count": 2,
      "outputs": []
    },
    {
      "cell_type": "markdown",
      "source": [
        "# Building VAE model:"
      ],
      "metadata": {
        "id": "0fmjEYNWG9pp"
      }
    },
    {
      "cell_type": "code",
      "source": [
        "# Define the VAE model as subclass of nn.Module using fully connected (aka dense) layers\n",
        "\n",
        "class VAE(nn.Module):\n",
        "    def __init__(self):\n",
        "        super(VAE, self).__init__()\n",
        "\n",
        "        # Encoder\n",
        "        self.fc1 = nn.Linear(28*28, 400) #compressess flattened image to 400d\n",
        "        self.fc21 = nn.Linear(400, 20)  # mean of latent z (20d vector)\n",
        "        self.fc22 = nn.Linear(400, 20)  # log-variance of z\n",
        "\n",
        "        # Decoder\n",
        "        self.fc3 = nn.Linear(20, 400)\n",
        "        self.fc4 = nn.Linear(400, 28*28)\n",
        "\n",
        "    def encode(self, x):\n",
        "        h1 = F.relu(self.fc1(x))\n",
        "        return self.fc21(h1), self.fc22(h1)\n",
        "\n",
        "    def reparameterize(self, mu, logvar):\n",
        "        std = torch.exp(0.5*logvar)\n",
        "        eps = torch.randn_like(std)\n",
        "        return mu + eps*std\n",
        "\n",
        "    def decode(self, z):\n",
        "        h3 = F.relu(self.fc3(z))\n",
        "        return torch.sigmoid(self.fc4(h3))\n",
        "\n",
        "    def forward(self, x):\n",
        "        mu, logvar = self.encode(x.view(-1, 28*28))\n",
        "        z = self.reparameterize(mu, logvar)\n",
        "        return self.decode(z), mu, logvar\n",
        "\n",
        "# Define VAE Loss function\n",
        "def loss_function(recon_x, x, mu, logvar):\n",
        "    BCE = F.binary_cross_entropy(recon_x, x.view(-1, 28*28), reduction='sum')\n",
        "    KL_div = -0.5 * torch.sum(1 + logvar - mu.pow(2) - logvar.exp()) # between posterior q(z|x) and prior p(z) = N(0, 1)\n",
        "    return BCE + KL_div\n",
        "\n",
        "# Load MNIST dataset in batches\n",
        "transform = transforms.ToTensor()\n",
        "train_loader = DataLoader(\n",
        "    datasets.MNIST('.', train=True, download=True, transform=transform),\n",
        "    batch_size=128, shuffle=True\n",
        ")\n",
        "test_loader = DataLoader(\n",
        "    datasets.MNIST('.', train=False, download=True, transform=transform),\n",
        "    batch_size=128, shuffle=False\n",
        ")\n",
        "\n",
        "# Initialize the device (either CPU or GPU will work), model, Adam optimizer\n",
        "device = torch.device(\"cuda\" if torch.cuda.is_available() else \"cpu\")\n",
        "model = VAE().to(device)\n",
        "optimizer = optim.Adam(model.parameters(), lr=1e-3)\n",
        "\n",
        "# Training loop\n",
        "def train(epoch):\n",
        "    model.train()\n",
        "    train_loss = 0\n",
        "    for batch_idx, (data, _) in enumerate(train_loader):\n",
        "        data = data.to(device)\n",
        "        optimizer.zero_grad()\n",
        "        recon_batch, mu, logvar = model(data)\n",
        "        loss = loss_function(recon_batch, data, mu, logvar)\n",
        "        loss.backward()\n",
        "        train_loss += loss.item()\n",
        "        optimizer.step()\n",
        "        if batch_idx % 100 == 0:\n",
        "            print(f'Train Epoch: {epoch} [{batch_idx * len(data)}/{len(train_loader.dataset)} '\n",
        "                  f'({100. * batch_idx / len(train_loader):.0f}%)]\\tLoss: {loss.item() / len(data):.6f}')\n",
        "    print(f'====> Epoch: {epoch} Average loss: {train_loss / len(train_loader.dataset):.4f}')\n",
        "\n",
        "# Testing loop\n",
        "def test(epoch):\n",
        "    model.eval()\n",
        "    test_loss = 0\n",
        "    with torch.no_grad():\n",
        "        for data, _ in test_loader:\n",
        "            data = data.to(device)\n",
        "            recon_batch, mu, logvar = model(data)\n",
        "            test_loss += loss_function(recon_batch, data, mu, logvar).item()\n",
        "    test_loss /= len(test_loader.dataset)\n",
        "    print(f'====> Test set loss: {test_loss:.4f}')\n",
        "\n",
        "# Train and test using 10 epochs\n",
        "for epoch in range(1, 11):\n",
        "    train(epoch)\n",
        "    test(epoch)\n",
        "\n"
      ],
      "metadata": {
        "colab": {
          "base_uri": "https://localhost:8080/"
        },
        "id": "NmLf8-E1uMYX",
        "outputId": "64443c5c-0d6c-44c9-ff72-24f8b213dbf1"
      },
      "execution_count": 3,
      "outputs": [
        {
          "output_type": "stream",
          "name": "stdout",
          "text": [
            "Downloading http://yann.lecun.com/exdb/mnist/train-images-idx3-ubyte.gz\n",
            "Failed to download (trying next):\n",
            "HTTP Error 403: Forbidden\n",
            "\n",
            "Downloading https://ossci-datasets.s3.amazonaws.com/mnist/train-images-idx3-ubyte.gz\n",
            "Downloading https://ossci-datasets.s3.amazonaws.com/mnist/train-images-idx3-ubyte.gz to ./MNIST/raw/train-images-idx3-ubyte.gz\n"
          ]
        },
        {
          "output_type": "stream",
          "name": "stderr",
          "text": [
            "100%|██████████| 9.91M/9.91M [00:00<00:00, 16.0MB/s]\n"
          ]
        },
        {
          "output_type": "stream",
          "name": "stdout",
          "text": [
            "Extracting ./MNIST/raw/train-images-idx3-ubyte.gz to ./MNIST/raw\n",
            "\n",
            "Downloading http://yann.lecun.com/exdb/mnist/train-labels-idx1-ubyte.gz\n",
            "Failed to download (trying next):\n",
            "HTTP Error 403: Forbidden\n",
            "\n",
            "Downloading https://ossci-datasets.s3.amazonaws.com/mnist/train-labels-idx1-ubyte.gz\n",
            "Downloading https://ossci-datasets.s3.amazonaws.com/mnist/train-labels-idx1-ubyte.gz to ./MNIST/raw/train-labels-idx1-ubyte.gz\n"
          ]
        },
        {
          "output_type": "stream",
          "name": "stderr",
          "text": [
            "100%|██████████| 28.9k/28.9k [00:00<00:00, 486kB/s]\n"
          ]
        },
        {
          "output_type": "stream",
          "name": "stdout",
          "text": [
            "Extracting ./MNIST/raw/train-labels-idx1-ubyte.gz to ./MNIST/raw\n",
            "\n",
            "Downloading http://yann.lecun.com/exdb/mnist/t10k-images-idx3-ubyte.gz\n",
            "Failed to download (trying next):\n",
            "HTTP Error 403: Forbidden\n",
            "\n",
            "Downloading https://ossci-datasets.s3.amazonaws.com/mnist/t10k-images-idx3-ubyte.gz\n",
            "Downloading https://ossci-datasets.s3.amazonaws.com/mnist/t10k-images-idx3-ubyte.gz to ./MNIST/raw/t10k-images-idx3-ubyte.gz\n"
          ]
        },
        {
          "output_type": "stream",
          "name": "stderr",
          "text": [
            "100%|██████████| 1.65M/1.65M [00:00<00:00, 4.39MB/s]\n"
          ]
        },
        {
          "output_type": "stream",
          "name": "stdout",
          "text": [
            "Extracting ./MNIST/raw/t10k-images-idx3-ubyte.gz to ./MNIST/raw\n",
            "\n",
            "Downloading http://yann.lecun.com/exdb/mnist/t10k-labels-idx1-ubyte.gz\n",
            "Failed to download (trying next):\n",
            "HTTP Error 403: Forbidden\n",
            "\n",
            "Downloading https://ossci-datasets.s3.amazonaws.com/mnist/t10k-labels-idx1-ubyte.gz\n",
            "Downloading https://ossci-datasets.s3.amazonaws.com/mnist/t10k-labels-idx1-ubyte.gz to ./MNIST/raw/t10k-labels-idx1-ubyte.gz\n"
          ]
        },
        {
          "output_type": "stream",
          "name": "stderr",
          "text": [
            "100%|██████████| 4.54k/4.54k [00:00<00:00, 2.90MB/s]\n"
          ]
        },
        {
          "output_type": "stream",
          "name": "stdout",
          "text": [
            "Extracting ./MNIST/raw/t10k-labels-idx1-ubyte.gz to ./MNIST/raw\n",
            "\n",
            "Train Epoch: 1 [0/60000 (0%)]\tLoss: 549.898865\n",
            "Train Epoch: 1 [12800/60000 (21%)]\tLoss: 184.919662\n",
            "Train Epoch: 1 [25600/60000 (43%)]\tLoss: 150.335449\n",
            "Train Epoch: 1 [38400/60000 (64%)]\tLoss: 140.909286\n",
            "Train Epoch: 1 [51200/60000 (85%)]\tLoss: 128.017212\n",
            "====> Epoch: 1 Average loss: 163.7817\n",
            "====> Test set loss: 126.9087\n",
            "Train Epoch: 2 [0/60000 (0%)]\tLoss: 130.252518\n",
            "Train Epoch: 2 [12800/60000 (21%)]\tLoss: 122.539505\n",
            "Train Epoch: 2 [25600/60000 (43%)]\tLoss: 119.193626\n",
            "Train Epoch: 2 [38400/60000 (64%)]\tLoss: 118.748703\n",
            "Train Epoch: 2 [51200/60000 (85%)]\tLoss: 117.327049\n",
            "====> Epoch: 2 Average loss: 121.1687\n",
            "====> Test set loss: 115.9602\n",
            "Train Epoch: 3 [0/60000 (0%)]\tLoss: 118.982399\n",
            "Train Epoch: 3 [12800/60000 (21%)]\tLoss: 117.032684\n",
            "Train Epoch: 3 [25600/60000 (43%)]\tLoss: 113.039497\n",
            "Train Epoch: 3 [38400/60000 (64%)]\tLoss: 112.246750\n",
            "Train Epoch: 3 [51200/60000 (85%)]\tLoss: 112.642548\n",
            "====> Epoch: 3 Average loss: 114.3904\n",
            "====> Test set loss: 111.7402\n",
            "Train Epoch: 4 [0/60000 (0%)]\tLoss: 113.337677\n",
            "Train Epoch: 4 [12800/60000 (21%)]\tLoss: 113.336861\n",
            "Train Epoch: 4 [25600/60000 (43%)]\tLoss: 113.956711\n",
            "Train Epoch: 4 [38400/60000 (64%)]\tLoss: 114.716919\n",
            "Train Epoch: 4 [51200/60000 (85%)]\tLoss: 111.884262\n",
            "====> Epoch: 4 Average loss: 111.3975\n",
            "====> Test set loss: 109.8722\n",
            "Train Epoch: 5 [0/60000 (0%)]\tLoss: 114.996902\n",
            "Train Epoch: 5 [12800/60000 (21%)]\tLoss: 110.363251\n",
            "Train Epoch: 5 [25600/60000 (43%)]\tLoss: 111.274460\n",
            "Train Epoch: 5 [38400/60000 (64%)]\tLoss: 109.174561\n",
            "Train Epoch: 5 [51200/60000 (85%)]\tLoss: 110.546509\n",
            "====> Epoch: 5 Average loss: 109.7188\n",
            "====> Test set loss: 108.2877\n",
            "Train Epoch: 6 [0/60000 (0%)]\tLoss: 109.661270\n",
            "Train Epoch: 6 [12800/60000 (21%)]\tLoss: 106.229050\n",
            "Train Epoch: 6 [25600/60000 (43%)]\tLoss: 111.576302\n",
            "Train Epoch: 6 [38400/60000 (64%)]\tLoss: 107.665871\n",
            "Train Epoch: 6 [51200/60000 (85%)]\tLoss: 105.929848\n",
            "====> Epoch: 6 Average loss: 108.5371\n",
            "====> Test set loss: 107.5519\n",
            "Train Epoch: 7 [0/60000 (0%)]\tLoss: 107.392570\n",
            "Train Epoch: 7 [12800/60000 (21%)]\tLoss: 104.229935\n",
            "Train Epoch: 7 [25600/60000 (43%)]\tLoss: 103.709335\n",
            "Train Epoch: 7 [38400/60000 (64%)]\tLoss: 106.733505\n",
            "Train Epoch: 7 [51200/60000 (85%)]\tLoss: 111.866592\n",
            "====> Epoch: 7 Average loss: 107.7666\n",
            "====> Test set loss: 106.7290\n",
            "Train Epoch: 8 [0/60000 (0%)]\tLoss: 110.615089\n",
            "Train Epoch: 8 [12800/60000 (21%)]\tLoss: 106.600700\n",
            "Train Epoch: 8 [25600/60000 (43%)]\tLoss: 106.077110\n",
            "Train Epoch: 8 [38400/60000 (64%)]\tLoss: 109.420601\n",
            "Train Epoch: 8 [51200/60000 (85%)]\tLoss: 107.281677\n",
            "====> Epoch: 8 Average loss: 107.1161\n",
            "====> Test set loss: 106.6587\n",
            "Train Epoch: 9 [0/60000 (0%)]\tLoss: 108.226410\n",
            "Train Epoch: 9 [12800/60000 (21%)]\tLoss: 107.934509\n",
            "Train Epoch: 9 [25600/60000 (43%)]\tLoss: 108.211754\n",
            "Train Epoch: 9 [38400/60000 (64%)]\tLoss: 111.508293\n",
            "Train Epoch: 9 [51200/60000 (85%)]\tLoss: 108.297714\n",
            "====> Epoch: 9 Average loss: 106.5955\n",
            "====> Test set loss: 105.7881\n",
            "Train Epoch: 10 [0/60000 (0%)]\tLoss: 110.358574\n",
            "Train Epoch: 10 [12800/60000 (21%)]\tLoss: 106.595108\n",
            "Train Epoch: 10 [25600/60000 (43%)]\tLoss: 108.832748\n",
            "Train Epoch: 10 [38400/60000 (64%)]\tLoss: 105.275574\n",
            "Train Epoch: 10 [51200/60000 (85%)]\tLoss: 105.732407\n",
            "====> Epoch: 10 Average loss: 106.2360\n",
            "====> Test set loss: 105.6402\n"
          ]
        }
      ]
    },
    {
      "cell_type": "markdown",
      "source": [
        "\n",
        "# Generating new data:\n",
        "\n",
        "After training is complete, use VAE model to reconstruct new images and plot them to visually check the quality of the trained VAE model"
      ],
      "metadata": {
        "id": "lMfTeZ06EAr4"
      }
    },
    {
      "cell_type": "code",
      "source": [
        "# Define plot function to visualize generated data (reconstructed images)\n",
        "def plot_reconstructions(epoch):\n",
        "    model.eval()\n",
        "    with torch.no_grad():\n",
        "        data, _ = next(iter(test_loader))\n",
        "        data = data.to(device)\n",
        "        recon_batch, _, _ = model(data)\n",
        "        comparison = torch.cat([data[:8], recon_batch.view(128, 1, 28, 28)[:8]])\n",
        "        comparison = comparison.cpu()\n",
        "        fig, axes = plt.subplots(2, 8, figsize=(10, 2))\n",
        "        for i in range(8):\n",
        "            axes[0, i].imshow(comparison[i].squeeze(), cmap='gray')\n",
        "            axes[1, i].imshow(comparison[i + 8].squeeze(), cmap='gray')\n",
        "            axes[0, i].axis('off')\n",
        "            axes[1, i].axis('off')\n",
        "        plt.show()\n",
        "\n",
        "# Plot\n",
        "plot_reconstructions(10)\n"
      ],
      "metadata": {
        "colab": {
          "base_uri": "https://localhost:8080/",
          "height": 191
        },
        "id": "Kzh2Uwc7D-RC",
        "outputId": "c3b6f62a-182a-4a31-87aa-49d836a8e22b"
      },
      "execution_count": 4,
      "outputs": [
        {
          "output_type": "display_data",
          "data": {
            "text/plain": [
              "<Figure size 1000x200 with 16 Axes>"
            ],
            "image/png": "[encoded data removed]"
          },
          "metadata": {}
        }
      ]
    }
  ]
}